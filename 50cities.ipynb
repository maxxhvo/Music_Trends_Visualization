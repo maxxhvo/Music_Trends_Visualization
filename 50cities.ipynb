{
 "cells": [
  {
   "cell_type": "code",
   "execution_count": 13,
   "id": "fa0ccab6-e2a3-464a-8292-f6b5ba143b18",
   "metadata": {},
   "outputs": [],
   "source": [
    "import requests\n",
    "import lxml.html as lx\n",
    "import re"
   ]
  },
  {
   "cell_type": "code",
   "execution_count": 46,
   "id": "05676077-65f7-40b2-9e1a-a1543bb8205d",
   "metadata": {},
   "outputs": [],
   "source": [
    "response = requests.get('https://en.wikipedia.org/wiki/List_of_United_States_cities_by_population',headers = {'Accept': 'text/html'})\n",
    "txt = response.text"
   ]
  },
  {
   "cell_type": "code",
   "execution_count": 49,
   "id": "22df716c-b985-41f8-bc7a-a030b1bd57f3",
   "metadata": {},
   "outputs": [],
   "source": [
    "cities= {}\n",
    "citystart = re.search(r'<i><a[^>]*>(.*?)</a>',txt)\n",
    "txt = txt[citystart.start():]"
   ]
  },
  {
   "cell_type": "code",
   "execution_count": 55,
   "id": "8c47f25e-d608-4652-9839-0556d88c8933",
   "metadata": {},
   "outputs": [
    {
     "data": {
      "text/plain": [
       "['New York',\n",
       " 'Los Angeles',\n",
       " 'Chicago',\n",
       " 'Houston',\n",
       " 'Phoenix',\n",
       " 'Philadelphia',\n",
       " 'San Antonio',\n",
       " 'San Diego',\n",
       " 'Dallas',\n",
       " 'Jacksonville',\n",
       " 'Austin',\n",
       " 'Fort Worth',\n",
       " 'San Jose',\n",
       " 'Columbus',\n",
       " 'Charlotte',\n",
       " 'Indianapolis',\n",
       " 'San Francisco',\n",
       " 'Seattle',\n",
       " 'Denver',\n",
       " 'Oklahoma City',\n",
       " '<i>Nashville</i>',\n",
       " 'Washington',\n",
       " 'El Paso',\n",
       " 'Las Vegas',\n",
       " 'Boston',\n",
       " 'Detroit',\n",
       " 'Portland',\n",
       " 'Louisville',\n",
       " 'Memphis',\n",
       " 'Baltimore',\n",
       " 'Milwaukee',\n",
       " 'Albuquerque',\n",
       " 'Tucson',\n",
       " 'Fresno',\n",
       " 'Sacramento',\n",
       " 'Mesa',\n",
       " 'Atlanta',\n",
       " 'Kansas City',\n",
       " 'Colorado Springs',\n",
       " 'Omaha',\n",
       " 'Raleigh',\n",
       " 'Miami',\n",
       " 'Virginia Beach',\n",
       " 'Long Beach',\n",
       " 'Oakland',\n",
       " 'Minneapolis',\n",
       " 'Bakersfield',\n",
       " 'Tulsa',\n",
       " 'Tampa',\n",
       " 'Arlington']"
      ]
     },
     "execution_count": 55,
     "metadata": {},
     "output_type": "execute_result"
    }
   ],
   "source": [
    "citylist = re.findall(r'<a[^>]*>(.*?)</a>',txt)\n",
    "citylistfinal = []\n",
    "for i in citylist:\n",
    "    if len(i)>3 and len(i)<25:\n",
    "        citylistfinal.append(i)\n",
    "citylistfinal = citylistfinal[0:50]\n",
    "citylistfinal"
   ]
  },
  {
   "cell_type": "code",
   "execution_count": null,
   "id": "45cd1e32-50d1-4a04-8a10-39845eaf7f2a",
   "metadata": {},
   "outputs": [],
   "source": []
  }
 ],
 "metadata": {
  "kernelspec": {
   "display_name": "Python 3 (ipykernel)",
   "language": "python",
   "name": "python3"
  },
  "language_info": {
   "codemirror_mode": {
    "name": "ipython",
    "version": 3
   },
   "file_extension": ".py",
   "mimetype": "text/x-python",
   "name": "python",
   "nbconvert_exporter": "python",
   "pygments_lexer": "ipython3",
   "version": "3.9.13"
  }
 },
 "nbformat": 4,
 "nbformat_minor": 5
}
