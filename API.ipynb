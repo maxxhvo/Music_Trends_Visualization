{
 "cells": [
  {
   "cell_type": "markdown",
   "metadata": {},
   "source": [
    "__Usage of Chartmetric API:__ https://api.chartmetric.com/apidoc/\n",
    "\n",
    "Alternative:  \n",
    "      \n",
    "https://www.viberate.com/  \n",
    "https://app.soundcharts.com/  \n",
    "https://spotipy.readthedocs.io/en/2.24.0/  \n",
    "https://docs.songstats.com/  "
   ]
  },
  {
   "cell_type": "markdown",
   "metadata": {},
   "source": [
    "#### utilize a cache"
   ]
  },
  {
   "cell_type": "code",
   "execution_count": 1,
   "metadata": {},
   "outputs": [],
   "source": [
    "import requests\n",
    "import requests_cache\n",
    "from sys import exit\n",
    "from pprint import pprint\n",
    "\n",
    "import lxml.html as lx\n",
    "import re"
   ]
  },
  {
   "cell_type": "markdown",
   "metadata": {},
   "source": [
    "__https://api.chartmetric.com/apidoc/#api-Authorization-GetAccessToken__"
   ]
  },
  {
   "cell_type": "markdown",
   "metadata": {},
   "source": [
    "#### NOT ACTUALLY GENERATING A TOKEN BUT HERE IS CODE THAT SHOWS HOW I WOULD OBTAIN THE TOKEN"
   ]
  },
  {
   "cell_type": "code",
   "execution_count": null,
   "metadata": {},
   "outputs": [],
   "source": [
    "HOST = 'https://api.chartmetric.com'\n",
    "REFRESH_TOKEN = '...'  # replace with the refresh token\n",
    "\n",
    "def get_access_token():\n",
    "    '''\n",
    "    Function to fetch access token using refresh token\n",
    "    '''\n",
    "    res = post(f'{HOST}/api/token', json={\"refreshtoken\": REFRESH_TOKEN})\n",
    "    if res.status_code == 200:\n",
    "        return res.json().get('token')  \n",
    "    else:\n",
    "        print(f\"ERROR: Failed to fetch access token. Status code: {res.status_code}\")\n",
    "        print(\"Response:\", res.json())  # Debugging info\n",
    "        exit(1)"
   ]
  },
  {
   "cell_type": "markdown",
   "metadata": {},
   "source": [
    "Accessing the Environmental Access Code"
   ]
  },
  {
   "cell_type": "code",
   "execution_count": null,
   "metadata": {},
   "outputs": [],
   "source": [
    "import os\n",
    "access_token = os.getenv('ACCESS_TOKEN') # retrive access token from environment variables"
   ]
  },
  {
   "cell_type": "code",
   "execution_count": null,
   "metadata": {},
   "outputs": [],
   "source": [
    "# Function to make authorized GET requests\n",
    "def Get(uri, access_token):\n",
    "    res = get(f'{HOST}{uri}', headers={'Authorization': f'Bearer {access_token}'})\n",
    "    if res.status_code != 200:\n",
    "        print(f\"ERROR: Failed GET request. Status code: {res.status_code}\")\n",
    "        print(\"Response:\", res.json())  # Debugging info\n",
    "        exit(1)\n",
    "    return res.json()"
   ]
  },
  {
   "cell_type": "code",
   "execution_count": null,
   "metadata": {},
   "outputs": [],
   "source": [
    "# Main workflow\n",
    "access_token = get_access_token()\n",
    "response = Get('/api/artist/206557', access_token)\n",
    "pprint(response)"
   ]
  }
 ],
 "metadata": {
  "kernelspec": {
   "display_name": "Python 3",
   "language": "python",
   "name": "python3"
  },
  "language_info": {
   "codemirror_mode": {
    "name": "ipython",
    "version": 3
   },
   "file_extension": ".py",
   "mimetype": "text/x-python",
   "name": "python",
   "nbconvert_exporter": "python",
   "pygments_lexer": "ipython3",
   "version": "3.10.11"
  }
 },
 "nbformat": 4,
 "nbformat_minor": 2
}
