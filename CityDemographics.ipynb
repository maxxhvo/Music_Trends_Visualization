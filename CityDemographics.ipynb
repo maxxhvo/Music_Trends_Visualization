{
 "cells": [
  {
   "cell_type": "code",
   "execution_count": 1,
   "id": "da0b4558-9bcb-4ceb-b095-8092aef1b73e",
   "metadata": {},
   "outputs": [],
   "source": [
    "import requests\n",
    "import lxml.html as lx\n",
    "import re"
   ]
  },
  {
   "cell_type": "code",
   "execution_count": 3,
   "id": "99dfd722-d978-4b66-9611-40f25e6a14e7",
   "metadata": {},
   "outputs": [],
   "source": [
    "topcities = ['New York New York', 'Los Angeles California', 'Chicago Illinois', 'Miami Florida', 'Dallas Texas', 'Philadelphia Pennsylvania',\n",
    "             'Houston Texas', 'Washington-District-of-Columbia', 'Atlanta Georgia', 'Boston Massachusetts', 'Phoenix Arizona', 'Seattle Washington',\n",
    "             'San Francisco California', 'Detroit Michigan', 'San Diego California', 'Minneapolis Minnesota', 'Tampa Florida', 'Denver Colorado',\n",
    "             'Brooklyn New York', 'Queens New York', 'Baltimore Maryland', 'Riverside California', 'St. Louis Missouri', 'Las Vegas Nevada', 'Portland Oregon',\n",
    "             'San Antonio Texas', 'Sacramento California', 'San Jose California', 'Orlando Florida', 'Cleveland Ohio', 'Pittsburgh Pennsylvania', 'Cincinnati Ohio',\n",
    "             'Manhattan New York', 'Austin Texas', 'Indianapolis Indiana', 'Columbus Ohio', 'Virginia Beach Virginia', 'Charlotte North Carolina', 'Bronx New York',\n",
    "             'Milwaukee Wisconsin', 'Providence Rhode Island', 'Jacksonville Florida', 'Salt Lake City Utah', 'Nashville Tennessee', 'Memphis Tennessee',\n",
    "             'Richmond Virginia', 'New Orleans Louisiana', 'Raleigh North Carolina', 'Louisville Kentucky']"
   ]
  },
  {
   "cell_type": "code",
   "execution_count": 14,
   "id": "8f1d07cc-90f6-4468-b3e0-06c5c0fa5b40",
   "metadata": {},
   "outputs": [],
   "source": [
    "url = 'https://city-data.com/city/'\n",
    "cityraces = {}\n",
    "for city in topcities:\n",
    "    cityurl = re.sub(' ', '-', city)\n",
    "    response = requests.get(url+cityurl+'.html', headers = {'Accept': 'text/html'})\n",
    "    html = lx.fromstring(response.text)\n",
    "    racedic = {}\n",
    "    races = html.xpath('//*[@id=\"races-graph\"]/div/ul/li[2]/ul//li[@class=\"list-group-item\"]')\n",
    "    for race in races:\n",
    "        percentage = race.xpath('.//span[@class=\"badge alert-info\"]/text()')[0].strip('%')\n",
    "        name = race.xpath('.//b/text()')[0].strip()\n",
    "        racedic[name] = percentage\n",
    "    cityraces[city] = racedic"
   ]
  },
  {
   "cell_type": "code",
   "execution_count": 4,
   "id": "03dad8ce-6e2f-48c5-ae6e-152342525f10",
   "metadata": {},
   "outputs": [],
   "source": [
    "url = 'https://city-data.com/city/'\n",
    "cityurl = re.sub(' ', '-', 'New York New York')\n",
    "response = requests.get(url+cityurl+'.html', headers = {'Accept': 'text/html'})"
   ]
  },
  {
   "cell_type": "code",
   "execution_count": 5,
   "id": "a2f40810-d2a0-4b61-9355-10e647b2ab4e",
   "metadata": {},
   "outputs": [],
   "source": [
    "html = lx.fromstring(response.text)\n",
    "racedic = {}\n",
    "races = html.xpath('//*[@id=\"races-graph\"]/div/ul/li[2]/ul//li[@class=\"list-group-item\"]')"
   ]
  },
  {
   "cell_type": "code",
   "execution_count": 11,
   "id": "518a7282-28e3-4f42-b7dc-1b8f5e824817",
   "metadata": {},
   "outputs": [],
   "source": [
    "for race in races:\n",
    "    percentage = race.xpath('.//span[@class=\"badge alert-info\"]/text()')\n",
    "    name = race.xpath('.//b/text()')[0].strip()\n",
    "    racedic[name] = percentage"
   ]
  },
  {
   "cell_type": "code",
   "execution_count": 12,
   "id": "0d7249d2-68c1-4605-86ed-6acb6816cf0a",
   "metadata": {},
   "outputs": [
    {
     "data": {
      "text/plain": [
       "{'White alone': ['30.5%'],\n",
       " 'Hispanic': ['29.1%'],\n",
       " 'Black alone': ['20.3%'],\n",
       " 'Asian alone': ['14.8%'],\n",
       " 'Two or more races': ['3.6%'],\n",
       " 'Other race alone': ['1.6%'],\n",
       " 'American Indian alone': ['0.2%'],\n",
       " 'Native Hawaiian and Other': ['0.04%']}"
      ]
     },
     "execution_count": 12,
     "metadata": {},
     "output_type": "execute_result"
    }
   ],
   "source": [
    "racedic"
   ]
  },
  {
   "cell_type": "code",
   "execution_count": null,
   "id": "e0f8e6ae-88f1-4010-bf7a-e07315718361",
   "metadata": {},
   "outputs": [],
   "source": []
  }
 ],
 "metadata": {
  "kernelspec": {
   "display_name": "Python 3 (ipykernel)",
   "language": "python",
   "name": "python3"
  },
  "language_info": {
   "codemirror_mode": {
    "name": "ipython",
    "version": 3
   },
   "file_extension": ".py",
   "mimetype": "text/x-python",
   "name": "python",
   "nbconvert_exporter": "python",
   "pygments_lexer": "ipython3",
   "version": "3.9.13"
  }
 },
 "nbformat": 4,
 "nbformat_minor": 5
}
