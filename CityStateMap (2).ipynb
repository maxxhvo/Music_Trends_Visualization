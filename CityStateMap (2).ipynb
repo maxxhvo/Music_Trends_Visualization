{
 "cells": [
  {
   "cell_type": "code",
   "execution_count": 470,
   "id": "da0b4558-9bcb-4ceb-b095-8092aef1b73e",
   "metadata": {},
   "outputs": [],
   "source": [
    "import requests\n",
    "import lxml.html as lx\n",
    "import re\n",
    "import pickle\n",
    "import folium\n",
    "import json\n",
    "import pandas as pd\n",
    "from scipy.stats import chi2_contingency"
   ]
  },
  {
   "cell_type": "code",
   "execution_count": 471,
   "id": "48a60e36-147a-499e-8187-b0f0dbc9c0fe",
   "metadata": {},
   "outputs": [],
   "source": [
    "with open(\"C:/Users/Brandon Xia/Downloads/top_50_cities_provinces.pkl\", 'rb') as file:\n",
    "    top_50_cities_provinces = pickle.load(file)\n",
    "topcities = []\n",
    "for city in top_50_cities_provinces:\n",
    "    if city['city_name'] == 'The Bronx': #remove identical city\n",
    "        continue\n",
    "    if city['city_name'] == 'Washington D.C.': #special case with stateless city\n",
    "        topcities.append('Washington District of Columbia')\n",
    "        continue\n",
    "    citystate = city['city_name'] + ' ' + city['state'] #correct format for city_data.com\n",
    "    topcities.append(citystate)"
   ]
  },
  {
   "cell_type": "code",
   "execution_count": 472,
   "id": "8f1d07cc-90f6-4468-b3e0-06c5c0fa5b40",
   "metadata": {},
   "outputs": [],
   "source": [
    "url = 'https://city-data.com/city/'\n",
    "cityraces = {}\n",
    "for city in topcities:\n",
    "    cityurl = re.sub(' ', '-', city)\n",
    "    response = requests.get(url+cityurl+'.html', headers = {'Accept': 'text/html'})\n",
    "    html = lx.fromstring(response.text)\n",
    "    racedic = {}\n",
    "    races = html.xpath('//*[@id=\"races-graph\"]/div/ul/li[2]/ul//li[@class=\"list-group-item\"]')\n",
    "    for race in races:\n",
    "        percentage = race.xpath('.//span[@class=\"badge alert-info\"]/text()')[0].strip('%') #grab percentage without '%'\n",
    "        name = race.xpath('.//b/text()')[0].strip() #name of the racial category\n",
    "        racedic[name] = percentage\n",
    "    cityraces[city] = racedic #add dictionary of races to preexisting dictionary"
   ]
  },
  {
   "cell_type": "code",
   "execution_count": 473,
   "id": "e0f8e6ae-88f1-4010-bf7a-e07315718361",
   "metadata": {},
   "outputs": [
    {
     "data": {
      "text/plain": [
       "{'American Indian alone',\n",
       " 'Asian alone',\n",
       " 'Black alone',\n",
       " 'Hispanic',\n",
       " 'Native Hawaiian and Other',\n",
       " 'Other race alone',\n",
       " 'Two or more races',\n",
       " 'White alone'}"
      ]
     },
     "execution_count": 473,
     "metadata": {},
     "output_type": "execute_result"
    }
   ],
   "source": [
    "allraces = set()\n",
    "for city in topcities:\n",
    "    for key in cityraces[city].keys():\n",
    "        allraces.add(key)\n",
    "\n",
    "allraces #catalog every race category"
   ]
  },
  {
   "cell_type": "code",
   "execution_count": 474,
   "id": "3214bf34-964a-48ed-a57c-57cc4df1ff43",
   "metadata": {},
   "outputs": [],
   "source": [
    "stateraces = {}\n",
    "response = requests.get('https://en.wikipedia.org/wiki/List_of_U.S._states_and_territories_by_race/ethnicity', headers = {'Accept': 'text/html'})\n",
    "html = lx.fromstring(response.text)\n",
    "states = html.xpath('//*[@id=\"mw-content-text\"]/div[1]/table/tbody//tr[not(@style)]')\n",
    "states = states[1:51] #remove empty header"
   ]
  },
  {
   "cell_type": "code",
   "execution_count": 475,
   "id": "b0c0fa57-9f60-4409-846b-7a8ebc2edd2f",
   "metadata": {},
   "outputs": [],
   "source": [
    "with open(\"C:/Users/Brandon Xia/Downloads/genre_state.pkl\", 'rb') as file:\n",
    "    stategenre = pickle.load(file)\n",
    "genres = stategenre #create copy of the original which will not be altered"
   ]
  },
  {
   "cell_type": "code",
   "execution_count": 476,
   "id": "8a491545-60bf-466a-b0db-e5cdc1c0f8f3",
   "metadata": {},
   "outputs": [],
   "source": [
    "for i, statesection in enumerate(states): #add dictionary of races to each state\n",
    "    racedic = {}\n",
    "    state = statesection.xpath('./td[1]/b/a/text()')[0]\n",
    "    racedic['White alone'] = statesection.xpath('./td[4]/text()')[0].strip()\n",
    "    racedic['Black alone'] = statesection.xpath('./td[6]/text()')[0].strip()\n",
    "    racedic['Hispanic'] = statesection.xpath('./td[18]/text()')[0].strip()\n",
    "    racedic['Asian alone'] = statesection.xpath('./td[10]/text()')[0].strip()\n",
    "    racedic['Two or more races'] = statesection.xpath('./td[16]/text()')[0].strip()\n",
    "    racedic['Native Hawaiian and Other'] = statesection.xpath('./td[12]/text()')[0].strip()\n",
    "    racedic['American Indian alone'] = statesection.xpath('./td[8]/text()')[0].strip()\n",
    "    racedic['Other race alone'] = statesection.xpath('./td[14]/text()')[0].strip()\n",
    "    stateraces[state] = racedic\n",
    "    stategenre[i]['races'] = racedic\n",
    "    stategenre[i]['Population'] = statesection.xpath('./td[2]/text()')[0].strip()"
   ]
  },
  {
   "cell_type": "code",
   "execution_count": 477,
   "id": "4c0979ba-50f2-45c8-9aa9-0c21243bafcd",
   "metadata": {},
   "outputs": [
    {
     "data": {
      "text/plain": [
       "['Classic Rock',\n",
       " 'Metal',\n",
       " 'Electronic',\n",
       " 'Pop',\n",
       " 'Country',\n",
       " 'Indie',\n",
       " 'Rhythm and Blue',\n",
       " 'Latin',\n",
       " 'Alternative']"
      ]
     },
     "execution_count": 477,
     "metadata": {},
     "output_type": "execute_result"
    }
   ],
   "source": [
    "allgenres = set()\n",
    "for state in genres:\n",
    "    allgenres.add(state['genre'])\n",
    "allgenres = list(allgenres)\n",
    "allgenres #find every genre that will need to be plotted"
   ]
  },
  {
   "cell_type": "code",
   "execution_count": 478,
   "id": "7d5054b9-616c-49bc-87ff-7405b3eb409f",
   "metadata": {},
   "outputs": [
    {
     "data": {
      "text/plain": [
       "{'Classic Rock': 'red',\n",
       " 'Metal': 'grey',\n",
       " 'Electronic': 'green',\n",
       " 'Pop': 'pink',\n",
       " 'Country': 'orange',\n",
       " 'Indie': 'purple',\n",
       " 'Rhythm and Blue': 'blue',\n",
       " 'Latin': 'yellow',\n",
       " 'Alternative': 'black'}"
      ]
     },
     "execution_count": 478,
     "metadata": {},
     "output_type": "execute_result"
    }
   ],
   "source": [
    "colors = ['red', 'grey', 'green', 'pink', 'orange', 'purple', 'blue', 'yellow', 'black']\n",
    "gendic = dict(zip(allgenres, colors))\n",
    "gendic #set each genre to a map color"
   ]
  },
  {
   "cell_type": "code",
   "execution_count": 479,
   "id": "fd64fed3-f403-4a61-882a-1092c4863d03",
   "metadata": {},
   "outputs": [],
   "source": [
    "def getgencolor(state): #function to get the color to be used in the folium lambda function\n",
    "    for i in stategenre:\n",
    "        if i['state'] == state:\n",
    "            return gendic[i['genre']]\n",
    "        else:\n",
    "            continue"
   ]
  },
  {
   "cell_type": "code",
   "execution_count": 480,
   "id": "d2103fe4-6ba0-4efc-8979-5bc8462043fc",
   "metadata": {},
   "outputs": [],
   "source": [
    "def getgen(state): #function to get the top genre in each state\n",
    "    for i in stategenre:\n",
    "        if i['state'] == state:\n",
    "            return i['genre']\n",
    "        else:\n",
    "            continue"
   ]
  },
  {
   "cell_type": "code",
   "execution_count": 481,
   "id": "f52b051d-ea02-4631-860e-c2c831143473",
   "metadata": {},
   "outputs": [],
   "source": [
    "def getrace(state): #function to get the races of each state to be used in the folium tooltip\n",
    "    for i in stategenre:\n",
    "        if i['state'] == state:\n",
    "            return re.sub(r\"[{}']\", \"\", str(i['races'])).split(',')\n",
    "        else:\n",
    "            continue"
   ]
  },
  {
   "cell_type": "code",
   "execution_count": 482,
   "id": "1829fa22-64f7-4101-ad98-eba95a1acd74",
   "metadata": {},
   "outputs": [],
   "source": [
    "boundaries = \"C:/Users/Brandon Xia/Downloads/gz_2010_us_040_00_5m.json\" #GeoJson boundary file\n",
    "with open(boundaries, 'r') as f:\n",
    "    boundaries = json.load(f)"
   ]
  },
  {
   "cell_type": "code",
   "execution_count": 483,
   "id": "5093089c-6ee6-4503-ac17-ee0de09a68e1",
   "metadata": {},
   "outputs": [],
   "source": [
    "def generate_tt_contentrace(feature):#create tooltip info for a given state\n",
    "    state_name = feature['properties']['NAME']\n",
    "    srace = getrace(state_name)\n",
    "    if state_name == 'District of Columbia' or state_name == 'Puerto Rico':\n",
    "        return 'Territory: ' + state_name\n",
    "    sracehtml = '<br>'.join(srace)\n",
    "    return f\"\"\"\n",
    "    <b>State:</b> {state_name}<br>\n",
    "    <b>Racial Demographics:</b><br>{sracehtml}<br>\n",
    "    \"\"\"#html text handles line breaks and text bolding"
   ]
  },
  {
   "cell_type": "code",
   "execution_count": 484,
   "id": "e30ce7d1-ca82-4bce-9f61-06efa4765de6",
   "metadata": {},
   "outputs": [],
   "source": [
    "with open(\"C:/Users/Brandon Xia/Downloads/top_50_cities_location (1).pkl\", 'rb') as file:\n",
    "    toplocations = pickle.load(file) #load city coordinates"
   ]
  },
  {
   "cell_type": "code",
   "execution_count": 485,
   "id": "80d9dae9-b8a0-45b4-ae4a-3a7c2ba5ef66",
   "metadata": {},
   "outputs": [],
   "source": [
    "with open(\"C:/Users/Brandon Xia/Downloads/transformed_city_top10artist_data.txt\", 'r') as file:\n",
    "    artists = json.load(file) #load top 10 artists per city"
   ]
  },
  {
   "cell_type": "code",
   "execution_count": 486,
   "id": "1711c1cb-34d3-429f-94e7-3bf3bff3cb3c",
   "metadata": {},
   "outputs": [],
   "source": [
    "def getArtists(city): #extract the top artists from the nested dictionaries, format, and number them\n",
    "    for index in artists:\n",
    "        if city == index['city_name']:\n",
    "            return [('<b>' + str(i+1) + ': </b>' + artist['name']) for i, artist in enumerate(index['top_artists'])]"
   ]
  },
  {
   "cell_type": "code",
   "execution_count": 487,
   "id": "f129bfb2-8ad9-4471-b43a-4dced49620de",
   "metadata": {},
   "outputs": [
    {
     "data": {
      "text/plain": [
       "<folium.raster_layers.TileLayer at 0x26620012f10>"
      ]
     },
     "execution_count": 487,
     "metadata": {},
     "output_type": "execute_result"
    }
   ],
   "source": [
    "m = folium.Map(location = [40, -95],\n",
    "               zoom_start = 4)\n",
    "folium.TileLayer(\n",
    "    tiles='https://server.arcgisonline.com/ArcGIS/rest/services/World_Terrain_Base/MapServer/tile/{z}/{y}/{x}',\n",
    "    attr='Esri',\n",
    "    name='Esri Satellite', overlay=True, control=False\n",
    ").add_to(m)"
   ]
  },
  {
   "cell_type": "code",
   "execution_count": 488,
   "id": "5a7e24cb-678b-499c-8793-8b3d4515ad94",
   "metadata": {},
   "outputs": [
    {
     "data": {
      "text/plain": [
       "<branca.element.Element at 0x26622965820>"
      ]
     },
     "execution_count": 488,
     "metadata": {},
     "output_type": "execute_result"
    }
   ],
   "source": [
    "legend_html = \"\"\"\n",
    "<div style=\"\n",
    "    position: fixed; \n",
    "    bottom: 50px; \n",
    "    left: 50px; \n",
    "    width: 200px; \n",
    "    height: auto; \n",
    "    background-color: white; \n",
    "    border:2px solid grey; \n",
    "    z-index:9999; \n",
    "    font-size:14px;\n",
    "    padding: 10px;\n",
    "\">\n",
    "    <b>Legend</b><br>\n",
    "    <i style=\"background: blue; width: 18px; height: 18px; display: inline-block;\"></i> Rhythm & Blue<br>\n",
    "    <i style=\"background: red; width: 18px; height: 18px; display: inline-block;\"></i> Classic Rock<br>\n",
    "    <i style=\"background: green; width: 18px; height: 18px; display: inline-block;\"></i> Electronic<br>\n",
    "    <i style=\"background: black; width: 18px; height: 18px; display: inline-block;\"></i> Alternative<br>\n",
    "    <i style=\"background: yellow; width: 18px; height: 18px; display: inline-block;\"></i> Latin<br>\n",
    "    <i style=\"background: orange; width: 18px; height: 18px; display: inline-block;\"></i> Country<br>\n",
    "    <i style=\"background: pink; width: 18px; height: 18px; display: inline-block;\"></i> Pop<br>\n",
    "    <i style=\"background: grey; width: 18px; height: 18px; display: inline-block;\"></i> Metal<br>\n",
    "    <i style=\"background: purple; width: 18px; height: 18px; display: inline-block;\"></i> Indie<br>\n",
    "</div>\n",
    "\"\"\" #legend for state genre colors\n",
    "folium.GeoJson(\n",
    "    boundaries,\n",
    "    name='Genres',\n",
    "    style_function=lambda feature: {\n",
    "        'fillColor': getgencolor(feature['properties']['NAME']),\n",
    "        'color': 'black',\n",
    "        'weight': 2,\n",
    "        'fillOpacity': 0.85,\n",
    "    },\n",
    ").add_to(m)\n",
    "\n",
    "for feature in boundaries['features']:\n",
    "    state_name = feature['properties']['NAME']\n",
    "    tooltip_content = generate_tt_contentrace(feature)\n",
    "\n",
    "    # Add dynamic tooltips\n",
    "    folium.GeoJson(\n",
    "        feature,\n",
    "        style_function=lambda x: {\n",
    "            'color': None,\n",
    "            'fillOpacity': 0.1,\n",
    "        },\n",
    "        tooltip=folium.Tooltip(tooltip_content),\n",
    "    ).add_to(m)\n",
    "legend = folium.Element(legend_html)\n",
    "m.get_root().html.add_child(legend) #add legend to the map"
   ]
  },
  {
   "cell_type": "code",
   "execution_count": 489,
   "id": "212fdf1a-07bc-4b2a-a1db-aa2d26e2f503",
   "metadata": {},
   "outputs": [],
   "source": [
    "for city in toplocations: #cities layered above the states\n",
    "    artistlist = getArtists(city['city_name'])\n",
    "    artistshtml = '<br>'.join(artistlist)\n",
    "    popupcity = f\"<b>City: {city['city_name']}</b><br><br><b>Top Artists:</b><br>{artistshtml}\" #clickable popup for each city, html formatted\n",
    "    folium.CircleMarker( #create circular markers for each city\n",
    "        location=[city[\"latitude\"], city[\"longitude\"]],\n",
    "        radius = 4,\n",
    "        color = 'black',\n",
    "        fill = True,\n",
    "        fill_color = 'white',\n",
    "        fill_opacity = 1,\n",
    "        popup=folium.Popup(popupcity, max_width=300),\n",
    "    ).add_to(m)"
   ]
  },
  {
   "cell_type": "code",
   "execution_count": 490,
   "id": "0051a1cc-a8cb-4a86-932a-30b1965c094b",
   "metadata": {},
   "outputs": [],
   "source": [
    "m.save(\"CityStateMap.html\")"
   ]
  },
  {
   "cell_type": "code",
   "execution_count": 491,
   "id": "fded5f61-013d-45f5-9389-97fa99c16aee",
   "metadata": {},
   "outputs": [
    {
     "data": {
      "text/html": [
       "<div>\n",
       "<style scoped>\n",
       "    .dataframe tbody tr th:only-of-type {\n",
       "        vertical-align: middle;\n",
       "    }\n",
       "\n",
       "    .dataframe tbody tr th {\n",
       "        vertical-align: top;\n",
       "    }\n",
       "\n",
       "    .dataframe thead th {\n",
       "        text-align: right;\n",
       "    }\n",
       "</style>\n",
       "<table border=\"1\" class=\"dataframe\">\n",
       "  <thead>\n",
       "    <tr style=\"text-align: right;\">\n",
       "      <th></th>\n",
       "      <th>State</th>\n",
       "      <th>Population</th>\n",
       "      <th>White alone</th>\n",
       "      <th>Black alone</th>\n",
       "      <th>Hispanic</th>\n",
       "      <th>Asian alone</th>\n",
       "      <th>American Indian alone</th>\n",
       "      <th>Native Hawaiian and Other</th>\n",
       "      <th>Other race alone</th>\n",
       "      <th>Two or more races</th>\n",
       "      <th>genre</th>\n",
       "    </tr>\n",
       "  </thead>\n",
       "  <tbody>\n",
       "    <tr>\n",
       "      <th>0</th>\n",
       "      <td>Alabama</td>\n",
       "      <td>5024279.0</td>\n",
       "      <td>63.12</td>\n",
       "      <td>25.64</td>\n",
       "      <td>5.26</td>\n",
       "      <td>1.51</td>\n",
       "      <td>0.46</td>\n",
       "      <td>0.05</td>\n",
       "      <td>0.29</td>\n",
       "      <td>3.67</td>\n",
       "      <td>Country</td>\n",
       "    </tr>\n",
       "    <tr>\n",
       "      <th>1</th>\n",
       "      <td>Alaska</td>\n",
       "      <td>733391.0</td>\n",
       "      <td>57.51</td>\n",
       "      <td>2.83</td>\n",
       "      <td>6.79</td>\n",
       "      <td>5.92</td>\n",
       "      <td>14.84</td>\n",
       "      <td>1.70</td>\n",
       "      <td>0.62</td>\n",
       "      <td>9.78</td>\n",
       "      <td>Country</td>\n",
       "    </tr>\n",
       "    <tr>\n",
       "      <th>2</th>\n",
       "      <td>Arizona</td>\n",
       "      <td>7151502.0</td>\n",
       "      <td>53.37</td>\n",
       "      <td>4.43</td>\n",
       "      <td>30.65</td>\n",
       "      <td>3.48</td>\n",
       "      <td>3.69</td>\n",
       "      <td>0.20</td>\n",
       "      <td>0.44</td>\n",
       "      <td>3.73</td>\n",
       "      <td>Metal</td>\n",
       "    </tr>\n",
       "    <tr>\n",
       "      <th>3</th>\n",
       "      <td>Arkansas</td>\n",
       "      <td>3011524.0</td>\n",
       "      <td>68.52</td>\n",
       "      <td>14.94</td>\n",
       "      <td>8.53</td>\n",
       "      <td>1.70</td>\n",
       "      <td>0.68</td>\n",
       "      <td>0.47</td>\n",
       "      <td>0.27</td>\n",
       "      <td>4.89</td>\n",
       "      <td>Country</td>\n",
       "    </tr>\n",
       "    <tr>\n",
       "      <th>4</th>\n",
       "      <td>California</td>\n",
       "      <td>39538223.0</td>\n",
       "      <td>34.69</td>\n",
       "      <td>5.36</td>\n",
       "      <td>39.40</td>\n",
       "      <td>15.12</td>\n",
       "      <td>0.39</td>\n",
       "      <td>0.35</td>\n",
       "      <td>0.57</td>\n",
       "      <td>4.12</td>\n",
       "      <td>Pop</td>\n",
       "    </tr>\n",
       "  </tbody>\n",
       "</table>\n",
       "</div>"
      ],
      "text/plain": [
       "        State  Population  White alone  Black alone  Hispanic  Asian alone  \\\n",
       "0     Alabama   5024279.0        63.12        25.64      5.26         1.51   \n",
       "1      Alaska    733391.0        57.51         2.83      6.79         5.92   \n",
       "2     Arizona   7151502.0        53.37         4.43     30.65         3.48   \n",
       "3    Arkansas   3011524.0        68.52        14.94      8.53         1.70   \n",
       "4  California  39538223.0        34.69         5.36     39.40        15.12   \n",
       "\n",
       "   American Indian alone  Native Hawaiian and Other  Other race alone  \\\n",
       "0                   0.46                       0.05              0.29   \n",
       "1                  14.84                       1.70              0.62   \n",
       "2                   3.69                       0.20              0.44   \n",
       "3                   0.68                       0.47              0.27   \n",
       "4                   0.39                       0.35              0.57   \n",
       "\n",
       "   Two or more races    genre  \n",
       "0               3.67  Country  \n",
       "1               9.78  Country  \n",
       "2               3.73    Metal  \n",
       "3               4.89  Country  \n",
       "4               4.12      Pop  "
      ]
     },
     "execution_count": 491,
     "metadata": {},
     "output_type": "execute_result"
    }
   ],
   "source": [
    "statelist = []  #format state data in a way that fits the chi squared test for independence\n",
    "whites = []\n",
    "blacks = []\n",
    "hispanics = []\n",
    "asians = []\n",
    "nativeams = []\n",
    "pacificislanders = []\n",
    "others = []\n",
    "twoormore = []\n",
    "genre = []\n",
    "pop = []\n",
    "for state in stategenre: #turn string percentages into floats\n",
    "    statelist.append(state['state'])\n",
    "    whites.append(float(state['races']['White alone'].strip('%')))\n",
    "    blacks.append(float(state['races']['Black alone'].strip('%')))\n",
    "    hispanics.append(float(state['races']['Hispanic'].strip('%')))\n",
    "    asians.append(float(state['races']['Asian alone'].strip('%')))\n",
    "    nativeams.append(float(state['races']['American Indian alone'].strip('%')))\n",
    "    pacificislanders.append(float(state['races']['Native Hawaiian and Other'].strip('%')))\n",
    "    others.append(float(state['races']['Other race alone'].strip('%')))\n",
    "    twoormore.append(float(state['races']['Two or more races'].strip('%')))\n",
    "    genre.append(state['genre'])\n",
    "    pop.append(float(state['Population'].replace(',','')))\n",
    "data = {'State': statelist, 'Population': pop, 'White alone': whites, 'Black alone': blacks, 'Hispanic': hispanics, 'Asian alone': asians, 'American Indian alone': nativeams,\n",
    "        'Native Hawaiian and Other': pacificislanders, 'Other race alone': others, 'Two or more races': twoormore, 'genre': genre}\n",
    "df = pd.DataFrame(data)\n",
    "df.head()"
   ]
  },
  {
   "cell_type": "code",
   "execution_count": 492,
   "id": "4c01fc65-70e8-4589-b682-f2a76a2946e6",
   "metadata": {},
   "outputs": [],
   "source": [
    "racecols = ['White alone', 'Black alone', 'Hispanic', 'Asian alone', 'American Indian alone', 'Native Hawaiian and Other', 'Other race alone', 'Two or more races']\t#turn df into a contingency table\n",
    "for race in racecols:\n",
    "    df[f'{race}_count'] = df['Population'] * (df[race] / 100)\n",
    "df_long = df.melt(id_vars=['State', 'genre'], \n",
    "                  value_vars=racecols, \n",
    "                  var_name='Race', \n",
    "                  value_name='Count')\n",
    "contingency_table = df_long.groupby(['Race', 'genre'])['Count'].sum().unstack(fill_value=0)"
   ]
  },
  {
   "cell_type": "code",
   "execution_count": 493,
   "id": "a537a52f-93af-448c-a8fa-73dc57ee7317",
   "metadata": {},
   "outputs": [
    {
     "name": "stdout",
     "output_type": "stream",
     "text": [
      "Contingency Table:\n",
      "genre                      Alternative  Classic Rock  Country  Electronic  \\\n",
      "Race                                                                        \n",
      "American Indian alone            16.60          3.53    20.33        0.75   \n",
      "Asian alone                      11.08         48.41    35.47        8.57   \n",
      "Black alone                      20.50        226.53   102.50        9.40   \n",
      "Hispanic                         94.20        121.02    97.51       28.68   \n",
      "Native Hawaiian and Other         0.66          0.60     3.78        0.74   \n",
      "Other race alone                  2.40          5.48     4.65        0.55   \n",
      "Two or more races                21.59         44.95    53.80        5.38   \n",
      "White alone                     332.98        749.45   881.96       45.93   \n",
      "\n",
      "genre                       Indie  Latin   Metal    Pop  Rhythm and Blue  \n",
      "Race                                                                      \n",
      "American Indian alone        7.23   0.29   25.70   0.39             0.16  \n",
      "Asian alone                 45.62   5.36   16.55  15.12            36.53  \n",
      "Black alone                 97.24  11.82   32.48   5.36             1.50  \n",
      "Hispanic                   119.79  39.26   81.54  39.40             9.55  \n",
      "Native Hawaiian and Other    1.52   0.10    0.72   0.35            10.24  \n",
      "Other race alone             6.24   0.39    2.34   0.57             0.36  \n",
      "Two or more races           49.01   3.04   29.82   4.12            20.06  \n",
      "White alone                773.31  39.75  410.86  34.69            21.60  \n",
      "\n",
      "Chi-squared: 1053.838615238901\n",
      "p-value: 4.312787112797449e-184\n",
      "Degrees of Freedom: 56\n",
      "\n",
      "Expected Frequencies:\n",
      "[[7.49820995e+00 1.79948941e+01 1.79953440e+01 1.49961200e+00\n",
      "  1.64951321e+01 1.49976196e+00 8.99782194e+00 1.49961200e+00\n",
      "  1.49961200e+00]\n",
      " [2.22716236e+01 5.34494913e+01 5.34508276e+01 4.45423563e+00\n",
      "  4.89948103e+01 4.45468106e+00 2.67258592e+01 4.45423563e+00\n",
      "  4.45423563e+00]\n",
      " [5.07344205e+01 1.21757130e+02 1.21760174e+02 1.01466812e+01\n",
      "  1.11609434e+02 1.01476958e+01 6.08811017e+01 1.01466812e+01\n",
      "  1.01466812e+01]\n",
      " [6.30967667e+01 1.51425426e+02 1.51429211e+02 1.26191010e+01\n",
      "  1.38805063e+02 1.26203629e+01 7.57158676e+01 1.26191010e+01\n",
      "  1.26191010e+01]\n",
      " [1.87105239e+00 4.49032366e+00 4.49043592e+00 3.74202994e-01\n",
      "  4.11608325e+00 3.74240414e-01 2.24525538e+00 3.74202994e-01\n",
      "  3.74202994e-01]\n",
      " [2.29806434e+00 5.51510624e+00 5.51524412e+00 4.59603677e-01\n",
      "  5.05545660e+00 4.59649637e-01 2.75766802e+00 4.59603677e-01\n",
      "  4.59603677e-01]\n",
      " [2.31776490e+01 5.56238544e+01 5.56252450e+01 4.63543708e+00\n",
      "  5.09879537e+01 4.63590063e+00 2.78130860e+01 4.63543708e+00\n",
      "  4.63543708e+00]\n",
      " [3.29062214e+02 7.89713775e+02 7.89733518e+02 6.58111265e+01\n",
      "  7.23896067e+02 6.58177076e+01 3.94873340e+02 6.58111265e+01\n",
      "  6.58111265e+01]]\n"
     ]
    }
   ],
   "source": [
    "chi2, p, dof, expected = chi2_contingency(contingency_table) #chi squared test for independence\n",
    "\n",
    "print(\"Contingency Table:\")\n",
    "print(contingency_table)\n",
    "print(f\"\\nChi-squared: {chi2}\")\n",
    "print(f\"p-value: {p}\")\n",
    "print(f\"Degrees of Freedom: {dof}\")\n",
    "print(\"\\nExpected Frequencies:\")\n",
    "print(expected)"
   ]
  },
  {
   "cell_type": "code",
   "execution_count": null,
   "id": "8e9dea32-1d7e-4881-9a11-12106edf2af1",
   "metadata": {},
   "outputs": [],
   "source": []
  }
 ],
 "metadata": {
  "kernelspec": {
   "display_name": "Python 3 (ipykernel)",
   "language": "python",
   "name": "python3"
  },
  "language_info": {
   "codemirror_mode": {
    "name": "ipython",
    "version": 3
   },
   "file_extension": ".py",
   "mimetype": "text/x-python",
   "name": "python",
   "nbconvert_exporter": "python",
   "pygments_lexer": "ipython3",
   "version": "3.9.13"
  }
 },
 "nbformat": 4,
 "nbformat_minor": 5
}
