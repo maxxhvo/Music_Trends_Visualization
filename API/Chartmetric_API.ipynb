{
 "cells": [
  {
   "cell_type": "markdown",
   "metadata": {},
   "source": [
    "### __Utilizing Chartmetric API & Foundational Data (Max Vo):__ https://api.chartmetric.com/apidoc/\n",
    "\n",
    "Alternative:  \n",
    "      \n",
    "https://www.viberate.com/  \n",
    "https://app.soundcharts.com/  \n",
    "https://spotipy.readthedocs.io/en/2.24.0/  \n",
    "https://docs.songstats.com/  "
   ]
  },
  {
   "cell_type": "markdown",
   "metadata": {},
   "source": [
    "#### utilize a cache"
   ]
  },
  {
   "cell_type": "code",
   "execution_count": 2,
   "metadata": {},
   "outputs": [],
   "source": [
    "import requests\n",
    "import requests_cache\n",
    "from sys import exit\n",
    "\n",
    "import lxml.html as lx\n",
    "import re"
   ]
  },
  {
   "cell_type": "markdown",
   "metadata": {},
   "source": [
    "__https://api.chartmetric.com/apidoc/#api-Authorization-GetAccessToken__"
   ]
  },
  {
   "cell_type": "markdown",
   "metadata": {},
   "source": [
    "#### Example Code for Token Generation in Private Script"
   ]
  },
  {
   "cell_type": "code",
   "execution_count": null,
   "metadata": {},
   "outputs": [],
   "source": [
    "HOST = 'https://api.chartmetric.com'\n",
    "REFRESH_TOKEN = '...'  # replace with the refresh token\n",
    "\n",
    "def get_access_token():\n",
    "    '''\n",
    "    Function to fetch access token using refresh token\n",
    "    '''\n",
    "    res = requests.post(f'{HOST}/api/token', json={\"refreshtoken\": REFRESH_TOKEN})\n",
    "    if res.status_code == 200:\n",
    "        return res.json().get('token')  \n",
    "    else:\n",
    "        print(f\"ERROR: Failed to fetch access token. Status code: {res.status_code}\")\n",
    "        print(\"Response:\", res.json())  # Debugging info\n",
    "        exit(1)"
   ]
  },
  {
   "cell_type": "markdown",
   "metadata": {},
   "source": [
    "Accessing Hidden Keys + Pipeline"
   ]
  },
  {
   "cell_type": "code",
   "execution_count": 3,
   "metadata": {},
   "outputs": [],
   "source": [
    "with open('config.txt', 'r') as f:\n",
    "    access_token = f.read()"
   ]
  },
  {
   "cell_type": "code",
   "execution_count": 4,
   "metadata": {},
   "outputs": [],
   "source": [
    "HOST = 'https://api.chartmetric.com'\n",
    "session = requests_cache.CachedSession('MUSIC_TRENDS_VISUALIZATION') # session object\n",
    "\n",
    "# Function to make authorized GET requests ~ stemmed from documentation\n",
    "def Get(uri, access_token):\n",
    "    res = session.get(f'{HOST}{uri}', headers={'Authorization': f'Bearer {access_token}'})\n",
    "    if res.status_code != 200:\n",
    "        print(f\"ERROR: Failed GET request. Status code: {res.status_code}\")\n",
    "        print(\"Response:\", res.json())  # Debugging info\n",
    "        exit(1)\n",
    "    return res.json()"
   ]
  },
  {
   "cell_type": "markdown",
   "metadata": {},
   "source": [
    "#### ENDPOINTS: https://api.chartmetric.com/apidoc/\n",
    "\n",
    "#### Possibilities:  \n",
    "__Get List of city for a particular country to be used in city parameters.__\n",
    "https://api.chartmetric.com/api/charts/shazam/:country_code/cities\n",
    "\n",
    "__Charts - Spotify (Artists)__\n",
    "Get data insights for artists on Spotify Charts, including historical chart positions trend and listener counts.\n",
    "Given the appropriate filters, get data specific to interval and chart type (e.g. Monthly Popularity).\n",
    "This endpoint is useful for identifying trending artists on various Spotify Charts.\n",
    "This data will be cached daily.\n",
    "\n",
    "https://api.chartmetric.com/api/charts/spotify/artists\n",
    "\n",
    "\n",
    "__Get top 100 artists with maximum count for source in the city__  \n",
    "https://api.chartmetric.com/api/city/:id/:source/top-artists\n",
    "\n",
    "__Get top 100 tracks with maximum count for source in the city__  \n",
    "https://api.chartmetric.com/api/city/:id/:source/top-tracks\n",
    "\n",
    "__Spotify data for top 50 cities available prior to Aug 12, 2024__  \n",
    "https://api.chartmetric.com/api/artist/:id/where-people-listen\n",
    "\n",
    "__Search Functionalities__  \n",
    "https://api.chartmetric.com/apidoc/#api-Search-SearchCity"
   ]
  },
  {
   "cell_type": "markdown",
   "metadata": {},
   "source": [
    "#### Using: https://api.chartmetric.com/api/cities Endpoint"
   ]
  },
  {
   "cell_type": "code",
   "execution_count": 13,
   "metadata": {},
   "outputs": [],
   "source": [
    "cityIDs = Get('/api/cities?country_code=US', access_token)"
   ]
  },
  {
   "cell_type": "code",
   "execution_count": 14,
   "metadata": {},
   "outputs": [
    {
     "data": {
      "text/plain": [
       "{'city_id': 6351,\n",
       " 'city_name': 'Grand Island',\n",
       " 'latitude': 40.9214,\n",
       " 'longitude': -98.3584,\n",
       " 'population': 53424,\n",
       " 'province': 'Nebraska',\n",
       " 'locality': 'Grand Island',\n",
       " 'country': 'United States of America',\n",
       " 'image_url': None,\n",
       " 'iso3': 'USA'}"
      ]
     },
     "execution_count": 14,
     "metadata": {},
     "output_type": "execute_result"
    }
   ],
   "source": [
    "cityIDs['obj'][1]"
   ]
  },
  {
   "cell_type": "code",
   "execution_count": 15,
   "metadata": {},
   "outputs": [
    {
     "data": {
      "text/plain": [
       "[{'city_name': 'New York', 'city_id': 7060, 'population': 19354922},\n",
       " {'city_name': 'Los Angeles', 'city_id': 7058, 'population': 12815475},\n",
       " {'city_name': 'Chicago', 'city_id': 7057, 'population': 8675982},\n",
       " {'city_name': 'Miami', 'city_id': 7055, 'population': 6381966},\n",
       " {'city_name': 'Dallas', 'city_id': 7046, 'population': 5733259},\n",
       " {'city_name': 'Philadelphia', 'city_id': 7049, 'population': 5637884},\n",
       " {'city_name': 'Houston', 'city_id': 7054, 'population': 5446468},\n",
       " {'city_name': 'Washington D.C.', 'city_id': 16028, 'population': 5289420},\n",
       " {'city_name': 'Atlanta', 'city_id': 7056, 'population': 5228750},\n",
       " {'city_name': 'Boston', 'city_id': 7047, 'population': 4637537},\n",
       " {'city_name': 'Phoenix', 'city_id': 7042, 'population': 4081849},\n",
       " {'city_name': 'Seattle', 'city_id': 7041, 'population': 3643765},\n",
       " {'city_name': 'San Francisco', 'city_id': 7052, 'population': 3603761},\n",
       " {'city_name': 'Detroit', 'city_id': 7050, 'population': 3522206},\n",
       " {'city_name': 'San Diego', 'city_id': 7043, 'population': 3210314},\n",
       " {'city_name': 'Minneapolis', 'city_id': 7039, 'population': 2926757},\n",
       " {'city_name': 'Tampa', 'city_id': 7048, 'population': 2804240},\n",
       " {'city_name': 'Denver', 'city_id': 7053, 'population': 2787266},\n",
       " {'city_name': 'Brooklyn', 'city_id': 7385, 'population': 2629150},\n",
       " {'city_name': 'Queens', 'city_id': 7387, 'population': 2333054},\n",
       " {'city_name': 'Baltimore', 'city_id': 6999, 'population': 2170504},\n",
       " {'city_name': 'Riverside', 'city_id': 6316, 'population': 2084749},\n",
       " {'city_name': 'St. Louis', 'city_id': 7044, 'population': 2078283},\n",
       " {'city_name': 'Las Vegas', 'city_id': 7009, 'population': 2073045},\n",
       " {'city_name': 'Portland', 'city_id': 7011, 'population': 2052796},\n",
       " {'city_name': 'San Antonio', 'city_id': 7018, 'population': 2002530},\n",
       " {'city_name': 'Sacramento', 'city_id': 7008, 'population': 1854698},\n",
       " {'city_name': 'San Jose', 'city_id': 7007, 'population': 1821899},\n",
       " {'city_name': 'Orlando', 'city_id': 6990, 'population': 1776841},\n",
       " {'city_name': 'Cleveland', 'city_id': 7021, 'population': 1730363},\n",
       " {'city_name': 'Pittsburgh', 'city_id': 7028, 'population': 1715297},\n",
       " {'city_name': 'Cincinnati', 'city_id': 7022, 'population': 1648254},\n",
       " {'city_name': 'Manhattan', 'city_id': 7395, 'population': 1643734},\n",
       " {'city_name': 'Austin', 'city_id': 6983, 'population': 1638716},\n",
       " {'city_name': 'Indianapolis', 'city_id': 6994, 'population': 1564699},\n",
       " {'city_name': 'Columbus', 'city_id': 6926, 'population': 1528314},\n",
       " {'city_name': 'Virginia Beach', 'city_id': 6870, 'population': 1480383},\n",
       " {'city_name': 'Charlotte', 'city_id': 6922, 'population': 1467362},\n",
       " {'city_name': 'Bronx', 'city_id': 7399, 'population': 1455720},\n",
       " {'city_name': 'The Bronx', 'city_id': 796043, 'population': 1418207},\n",
       " {'city_name': 'Milwaukee', 'city_id': 7026, 'population': 1377808},\n",
       " {'city_name': 'Providence', 'city_id': 6860, 'population': 1206642},\n",
       " {'city_name': 'Jacksonville', 'city_id': 6991, 'population': 1156291},\n",
       " {'city_name': 'Salt Lake City', 'city_id': 7012, 'population': 1098400},\n",
       " {'city_name': 'Nashville', 'city_id': 7023, 'population': 1076645},\n",
       " {'city_name': 'Memphis', 'city_id': 7024, 'population': 1068873},\n",
       " {'city_name': 'Richmond', 'city_id': 6997, 'population': 1059907},\n",
       " {'city_name': 'New Orleans', 'city_id': 7045, 'population': 1029123},\n",
       " {'city_name': 'Raleigh', 'city_id': 7020, 'population': 1018336},\n",
       " {'city_name': 'Louisville', 'city_id': 6920, 'population': 1011696}]"
      ]
     },
     "execution_count": 15,
     "metadata": {},
     "output_type": "execute_result"
    }
   ],
   "source": [
    "# Sorting By Population (Extract ID information)\n",
    "sorted_cities = sorted(cityIDs['obj'], key=lambda x: x['population'], reverse=True)\n",
    "#\n",
    "top_50_cities = sorted_cities[:50]\n",
    "\n",
    "# Create a list of dicts containing only city_name, city_id, and population\n",
    "top_50_cities_filtered = [\n",
    "    {'city_name': city['city_name'], 'city_id': city['city_id'], 'population': city['population']}\n",
    "    for city in top_50_cities\n",
    "]\n",
    "top_50_cities_filtered"
   ]
  },
  {
   "cell_type": "code",
   "execution_count": null,
   "metadata": {},
   "outputs": [],
   "source": [
    "# For Use in CityDemographics\n",
    "import pickle\n",
    "\n",
    "top_50_cities_provinces = [\n",
    "    {'city_name': city['city_name'], 'state': city['province'], 'population': city['population']}\n",
    "    for city in top_50_cities\n",
    "]\n",
    "top_50_cities_provinces[1] # Example info for  Los Angeles\n",
    "\n",
    "with open('top_50_cities_provinces.pkl', 'wb') as file: # moved to Data Folder\n",
    "    pickle.dump(top_50_cities_provinces, file)"
   ]
  },
  {
   "cell_type": "code",
   "execution_count": null,
   "metadata": {},
   "outputs": [],
   "source": [
    "# ALSO WANT LATITUDE AND LONGITUDE PAIRS FOR VISUALIZATION PURPOSES\n",
    "import pickle\n",
    "\n",
    "top_50_cities_location = [\n",
    "    {'city_name': city['city_name'], 'state': city['province'], 'latitude': city['latitude'], 'longitude': city['longitude']}\n",
    "    for city in top_50_cities\n",
    "]\n",
    "with open('top_50_cities_location.pkl', 'wb') as file: # moved to Data Folder\n",
    "    pickle.dump(top_50_cities_location, file)"
   ]
  },
  {
   "cell_type": "markdown",
   "metadata": {},
   "source": [
    "#### Using https://api.chartmetric.com/api/city/:id/:source/top-artists Endpoint"
   ]
  },
  {
   "cell_type": "code",
   "execution_count": 14,
   "metadata": {},
   "outputs": [],
   "source": [
    "# Foundation: Get(f'/api/city/{city_id}/spotify/top-artists')\n",
    "import time\n",
    "\n",
    "def fetch_top_artists(top_50_cities_filtered, access_token):\n",
    "    \"\"\"Fetches the top artists for each city and retains the city information.\"\"\"\n",
    "    city_artist_data = []\n",
    "\n",
    "    for city in top_50_cities_filtered:\n",
    "        city_id = city['city_id']\n",
    "        city_name = city['city_name']\n",
    "        \n",
    "        # Call the API for the current city's top Spotify artists\n",
    "        uri = f'/api/city/{city_id}/spotify/top-artists'\n",
    "        try:\n",
    "            response_data = Get(uri, access_token)\n",
    "            city_artist_data.append({\n",
    "                'city_name': city_name,\n",
    "                'city_id': city_id,\n",
    "                'population': city['population'],\n",
    "                'top_artists': response_data  # Include the API's response for top artists\n",
    "            })\n",
    "        except Exception as e:\n",
    "            print(f\"Failed to fetch data for {city_name} (ID: {city_id}): {e}\")\n",
    "            \n",
    "        time.sleep(2) # Sleep for 2 seconds to avoid rate limiting\n",
    "    \n",
    "    return city_artist_data"
   ]
  },
  {
   "cell_type": "code",
   "execution_count": 15,
   "metadata": {},
   "outputs": [],
   "source": [
    "fetch_city_artist_data = fetch_top_artists(top_50_cities_filtered, access_token)"
   ]
  },
  {
   "cell_type": "code",
   "execution_count": 65,
   "metadata": {},
   "outputs": [
    {
     "data": {
      "text/plain": [
       "{'count': 993992,\n",
       " 'id': 3380,\n",
       " 'name': 'Drake',\n",
       " 'image_url': 'https://i.scdn.co/image/ab676161000051744293385d324db8558179afd9',\n",
       " 'isni': '000000012032246X',\n",
       " 'code2': 'CA',\n",
       " 'hometown_city': 'Toronto',\n",
       " 'verified': True,\n",
       " 'current_city': None,\n",
       " 'sp_followers': 93985366,\n",
       " 'sp_popularity': 96,\n",
       " 'sp_monthly_listeners': 73378027,\n",
       " 'deezer_fans': 23285258,\n",
       " 'cm_artist_rank': 10,\n",
       " 'cm_artist_score': 474567,\n",
       " 'spotify_artist_ids': ['0bxzG5POkPAzYmEhoNfgtO',\n",
       "  '2Iqn8dbh4BvojpUyzWYnHg',\n",
       "  '3TVXtAsR1Inumwj472S9r4',\n",
       "  '7yy0l7fZhBHr7wyfd01gRl',\n",
       "  '65Hl58L46lxt5QBI4AGsGW',\n",
       "  '2pTaxwkFpeMa0hF114k5pa',\n",
       "  '7GstH8EF1DS4SjGtNyUANW'],\n",
       " 'itunes_artist_ids': [1396256855, 1227259884, 1603482457, 332601109, 271256],\n",
       " 'deezer_artist_ids': ['5215664', '246791', '5113766'],\n",
       " 'amazon_artist_ids': ['B000QJRIHS',\n",
       "  'B001RDCRPA',\n",
       "  'B008LALN98',\n",
       "  'B0025NKBDQ',\n",
       "  'B07MXLSWXN',\n",
       "  'B008L6SPES',\n",
       "  'B001E72M5Y',\n",
       "  'B003FMPP32',\n",
       "  'B07MXLC7Q3',\n",
       "  'B07MXL39XS'],\n",
       " 'tags': ['hip-hop/rap', 'pop', 'r&b/soul', 'pop rap'],\n",
       " 'latest_release': {'cm_album': 40781450,\n",
       "  'album_name': 'Good Vibes Rap',\n",
       "  'release_date': '2024-12-04T00:00:00.000Z',\n",
       "  'upc': '5059460354586',\n",
       "  'label': 'Warner Music Group - X5 Music Group',\n",
       "  'image_url': 'https://is1-ssl.mzstatic.com/image/thumb/Music211/v4/cb/5b/ab/cb5bab9f-6c37-75ce-ca16-9e226a7226d7/5059460354586.jpg/160x160bb.jpg'}}"
      ]
     },
     "execution_count": 65,
     "metadata": {},
     "output_type": "execute_result"
    }
   ],
   "source": [
    "# Example Path for the Data of the top Artist of NY\n",
    "fetch_city_artist_data[0]['top_artists']['obj'][0]"
   ]
  },
  {
   "cell_type": "code",
   "execution_count": 16,
   "metadata": {},
   "outputs": [],
   "source": [
    "def transform_city_artist_data(city_artist_data):\n",
    "    for city in city_artist_data:\n",
    "        top_artists = city['top_artists']['obj']\n",
    "        transformed_artists = [{'name': artist['name'], 'sp_followers': artist['sp_followers']} for artist in top_artists]\n",
    "        city['top_artists'] = transformed_artists\n",
    "    return city_artist_data\n",
    "\n",
    "# Assuming city_artist_data is already defined\n",
    "transformed_city_artist_data = transform_city_artist_data(fetch_city_artist_data)"
   ]
  },
  {
   "cell_type": "code",
   "execution_count": 17,
   "metadata": {},
   "outputs": [],
   "source": [
    "def keep_top_10_artists(city_artist_data):\n",
    "    for city in city_artist_data:\n",
    "        city['top_artists'] = city['top_artists'][:10]\n",
    "    return city_artist_data\n",
    "\n",
    "transformed_city_top10artist_data = keep_top_10_artists(transformed_city_artist_data)"
   ]
  },
  {
   "cell_type": "code",
   "execution_count": 18,
   "metadata": {},
   "outputs": [
    {
     "data": {
      "text/plain": [
       "{'city_name': 'New York',\n",
       " 'city_id': 7060,\n",
       " 'population': 19354922,\n",
       " 'top_artists': [{'name': 'Drake', 'sp_followers': 93985366},\n",
       "  {'name': 'Kendrick Lamar', 'sp_followers': 34970428},\n",
       "  {'name': 'Kanye West', 'sp_followers': 28273751},\n",
       "  {'name': 'Future', 'sp_followers': 19503054},\n",
       "  {'name': 'Tyler, The Creator', 'sp_followers': 18178276},\n",
       "  {'name': 'Lil Wayne', 'sp_followers': 15755661},\n",
       "  {'name': 'Metro Boomin', 'sp_followers': 9819503},\n",
       "  {'name': '21 Savage', 'sp_followers': 20875641},\n",
       "  {'name': 'Playboi Carti', 'sp_followers': 12452046},\n",
       "  {'name': 'Chappell Roan', 'sp_followers': 4157919}]}"
      ]
     },
     "execution_count": 18,
     "metadata": {},
     "output_type": "execute_result"
    }
   ],
   "source": [
    "# ex data for NY\n",
    "transformed_city_top10artist_data[0]"
   ]
  },
  {
   "cell_type": "code",
   "execution_count": 70,
   "metadata": {},
   "outputs": [],
   "source": [
    "import json\n",
    "\n",
    "# FILE NAME\n",
    "text_file = 'transformed_city_top10artist_data.txt'\n",
    "\n",
    "# Write in JSON format\n",
    "with open(text_file, 'w', encoding='utf-8') as file:\n",
    "        json.dump(transformed_city_top10artist_data, file, indent=4)"
   ]
  },
  {
   "cell_type": "code",
   "execution_count": 19,
   "metadata": {},
   "outputs": [],
   "source": [
    "from collections import defaultdict # found module from google search\n",
    "\n",
    "# Dict. where each artist's name is a key, and the number of cities in which the artist appears is the value.\n",
    "artist_count = defaultdict(int) \n",
    "\n",
    "# Iterate through transformed_city_top10artist_data to count the number of cities in which each artist appears\n",
    "for city in transformed_city_top10artist_data:\n",
    "    for artist in city['top_artists']:\n",
    "        artist_count[artist['name']] += 1\n",
    "\n",
    "# Sort in Descending Order\n",
    "sorted_artists = sorted(artist_count.items(), key=lambda x: x[1], reverse=True)\n",
    "# Get the top 10 artists\n",
    "top_10_artists = [artist[0] for artist in sorted_artists[:10]]"
   ]
  },
  {
   "cell_type": "code",
   "execution_count": null,
   "metadata": {},
   "outputs": [],
   "source": [
    "# ttps://docs.python.org/3/library/pickle.html\n",
    "# accessed in Genre_By_State&Selenium.ipynb\n",
    "\n",
    "import pickle\n",
    "\n",
    "with open('top_10_artists.pkl', 'wb') as f: # moved to Data Folder\n",
    "    pickle.dump(top_10_artists, f)"
   ]
  },
  {
   "cell_type": "markdown",
   "metadata": {},
   "source": [
    "#### DEFUNCT CODE"
   ]
  },
  {
   "cell_type": "code",
   "execution_count": null,
   "metadata": {},
   "outputs": [],
   "source": [
    "# access list from 50cities.ipynb\n",
    "\n",
    "import nbformat\n",
    "from IPython import get_ipython\n",
    "\n",
    "# Load the notebook\n",
    "with open('50cities.ipynb') as f:\n",
    "    nb = nbformat.read(f, as_version=4)\n",
    "\n",
    "# Execute the notebook\n",
    "ip = get_ipython()\n",
    "for cell in nb.cells:\n",
    "    if cell.cell_type == 'code':\n",
    "        ip.run_cell(cell.source)\n",
    "\n",
    "top50 = citylistfinal # list of top 50 cities by population according to Wikipedia"
   ]
  },
  {
   "cell_type": "code",
   "execution_count": null,
   "metadata": {},
   "outputs": [],
   "source": [
    "city_matches = []\n",
    "\n",
    "# Normalize city names to lowercase for case-insensitive matching\n",
    "for city_name in top50:\n",
    "    match = next(\n",
    "        (city for city in cityIDs['obj'] if city['city_name'].lower() == city_name.lower()), \n",
    "        None\n",
    "    )\n",
    "    if match:\n",
    "        city_matches.append({'city_name': match['city_name'], 'city_id': match['city_id']})\n",
    "        \n",
    "city_matches"
   ]
  }
 ],
 "metadata": {
  "kernelspec": {
   "display_name": "Python 3",
   "language": "python",
   "name": "python3"
  },
  "language_info": {
   "codemirror_mode": {
    "name": "ipython",
    "version": 3
   },
   "file_extension": ".py",
   "mimetype": "text/x-python",
   "name": "python",
   "nbconvert_exporter": "python",
   "pygments_lexer": "ipython3",
   "version": "3.10.11"
  }
 },
 "nbformat": 4,
 "nbformat_minor": 2
}
